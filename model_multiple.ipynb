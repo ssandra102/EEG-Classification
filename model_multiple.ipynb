{
 "cells": [
  {
   "cell_type": "markdown",
   "id": "e691f114",
   "metadata": {},
   "source": [
    "Multiple Model Pipeline"
   ]
  },
  {
   "cell_type": "code",
   "execution_count": 1,
   "id": "88e826c0",
   "metadata": {},
   "outputs": [],
   "source": [
    "import pandas as pd\n",
    "from sklearn.model_selection import train_test_split\n",
    "from sklearn.preprocessing import StandardScaler\n",
    "from sklearn.pipeline import Pipeline\n",
    "from sklearn.ensemble import RandomForestClassifier\n",
    "from sklearn.naive_bayes import GaussianNB\n",
    "from sklearn.svm import SVC\n",
    "from sklearn.metrics import confusion_matrix\n",
    "import seaborn as sns\n",
    "import matplotlib.pyplot as plt\n",
    "from sklearn.metrics import accuracy_score, precision_score, recall_score"
   ]
  },
  {
   "cell_type": "code",
   "execution_count": 2,
   "id": "aebd55c9",
   "metadata": {},
   "outputs": [],
   "source": [
    "# Read the CSV file with features and target label\n",
    "input_file = \"dataset/labeled_jg_rest_eye_left_600.csv\" # Replace with the path to your CSV file\n",
    "data = pd.read_csv(input_file)\n",
    "\n",
    "# Split the data into features (X) and target label (y)\n"
   ]
  },
  {
   "cell_type": "code",
   "execution_count": 3,
   "id": "38c623ce",
   "metadata": {},
   "outputs": [
    {
     "name": "stdout",
     "output_type": "stream",
     "text": [
      "idx      int64\n",
      "x        int64\n",
      "Label    int64\n",
      "dtype: object\n"
     ]
    }
   ],
   "source": [
    "print(data.dtypes)"
   ]
  },
  {
   "cell_type": "code",
   "execution_count": 4,
   "id": "67ce950b",
   "metadata": {},
   "outputs": [],
   "source": [
    "X = data['x']\n",
    "y = data['Label']"
   ]
  },
  {
   "cell_type": "code",
   "execution_count": 5,
   "id": "cb359de0",
   "metadata": {},
   "outputs": [
    {
     "data": {
      "text/plain": [
       "(6097233,)"
      ]
     },
     "execution_count": 5,
     "metadata": {},
     "output_type": "execute_result"
    }
   ],
   "source": [
    "X.shape"
   ]
  },
  {
   "cell_type": "code",
   "execution_count": 6,
   "id": "bef4b754",
   "metadata": {},
   "outputs": [
    {
     "data": {
      "text/plain": [
       "(6097233,)"
      ]
     },
     "execution_count": 6,
     "metadata": {},
     "output_type": "execute_result"
    }
   ],
   "source": [
    "y.shape"
   ]
  },
  {
   "cell_type": "code",
   "execution_count": 7,
   "id": "4cd02171",
   "metadata": {},
   "outputs": [
    {
     "data": {
      "text/plain": [
       "(6097233,)"
      ]
     },
     "execution_count": 7,
     "metadata": {},
     "output_type": "execute_result"
    }
   ],
   "source": [
    "# Simulated EEG data (placeholder)\n",
    "eeg_data = X  # Placeholder for EEG data\n",
    "window_size = 50000  # Example window size\n",
    "eeg_data.shape"
   ]
  },
  {
   "cell_type": "code",
   "execution_count": 8,
   "id": "3861eded",
   "metadata": {},
   "outputs": [],
   "source": [
    "import numpy as np\n",
    "from sklearn.model_selection import train_test_split\n",
    "from sklearn.ensemble import RandomForestClassifier\n",
    "from sklearn.metrics import accuracy_score\n",
    "from scipy.stats import entropy\n",
    "\n",
    "def extract_features(signal_window):\n",
    "    # Extract features from the signal window\n",
    "    features = []\n",
    "    \n",
    "    # Basic statistical features\n",
    "    mean_value = np.mean(signal_window)\n",
    "    variance = np.var(signal_window)\n",
    "    min_value = np.min(signal_window)\n",
    "    max_value = np.max(signal_window)\n",
    "    range_value = max_value - min_value\n",
    "    median_value = np.median(signal_window)\n",
    "    rms = np.sqrt(np.mean(np.square(signal_window)))\n",
    "    \n",
    "    # Frequency-domain features (using FFT)\n",
    "    fft_values = np.fft.fft(signal_window)\n",
    "    power_spectrum = np.abs(fft_values)**2\n",
    "    total_power = np.sum(power_spectrum)\n",
    "    spectral_entropy = entropy(power_spectrum, base=2)\n",
    "    \n",
    "    # Other features\n",
    "    zero_crossings = np.sum(np.diff(np.sign(signal_window)) != 0)\n",
    "    \n",
    "    # Add features to the list\n",
    "    features.extend([mean_value, variance, min_value, max_value,\n",
    "                     range_value, median_value, rms, total_power, spectral_entropy,\n",
    "                     zero_crossings])\n",
    "    \n",
    "    return features\n"
   ]
  },
  {
   "cell_type": "code",
   "execution_count": 9,
   "id": "f47e7f2b",
   "metadata": {},
   "outputs": [],
   "source": [
    "def label_data(num_windows):\n",
    "    return [i % 2 for i in range(num_windows)]"
   ]
  },
  {
   "cell_type": "code",
   "execution_count": 10,
   "id": "3539471a",
   "metadata": {},
   "outputs": [],
   "source": [
    "num_windows = len(data) // window_size\n",
    "features2 = []\n",
    "labels2 = []\n",
    "for i in range(num_windows):\n",
    "    signal_window = eeg_data[i * window_size: (i + 1) * window_size]\n",
    "    features2.append(extract_features(signal_window))\n",
    "labels2 = label_data(num_windows)"
   ]
  },
  {
   "cell_type": "code",
   "execution_count": 11,
   "id": "893628ac",
   "metadata": {},
   "outputs": [
    {
     "data": {
      "text/plain": [
       "121"
      ]
     },
     "execution_count": 11,
     "metadata": {},
     "output_type": "execute_result"
    }
   ],
   "source": [
    "len(features2)"
   ]
  },
  {
   "cell_type": "code",
   "execution_count": 12,
   "id": "7b0c9579",
   "metadata": {},
   "outputs": [
    {
     "data": {
      "text/plain": [
       "121"
      ]
     },
     "execution_count": 12,
     "metadata": {},
     "output_type": "execute_result"
    }
   ],
   "source": [
    "len(labels2)"
   ]
  },
  {
   "cell_type": "code",
   "execution_count": 13,
   "id": "ae692079",
   "metadata": {},
   "outputs": [
    {
     "name": "stdout",
     "output_type": "stream",
     "text": [
      "Random Forest Evaluation:\n",
      "Accuracy: 0.96\n",
      "Precision: 0.96\n",
      "Recall: 0.96\n",
      "\n",
      "\n"
     ]
    },
    {
     "data": {
      "image/png": "[encoded data removed]",
      "text/plain": [
       "<Figure size 800x600 with 2 Axes>"
      ]
     },
     "metadata": {},
     "output_type": "display_data"
    },
    {
     "name": "stdout",
     "output_type": "stream",
     "text": [
      "Naive Bayes Evaluation:\n",
      "Accuracy: 0.96\n",
      "Precision: 0.96\n",
      "Recall: 0.96\n",
      "\n",
      "\n"
     ]
    },
    {
     "data": {
      "image/png": "[encoded data removed]",
      "text/plain": [
       "<Figure size 800x600 with 2 Axes>"
      ]
     },
     "metadata": {},
     "output_type": "display_data"
    },
    {
     "name": "stdout",
     "output_type": "stream",
     "text": [
      "SVM Evaluation:\n",
      "Accuracy: 0.92\n",
      "Precision: 0.94\n",
      "Recall: 0.92\n",
      "\n",
      "\n"
     ]
    },
    {
     "data": {
      "image/png": "[encoded data removed]",
      "text/plain": [
       "<Figure size 800x600 with 2 Axes>"
      ]
     },
     "metadata": {},
     "output_type": "display_data"
    }
   ],
   "source": [
    "\n",
    "X_train, X_test, y_train, y_test = train_test_split(features2, labels2, test_size=0.2, random_state=42)\n",
    "\n",
    "# Define machine learning models\n",
    "random_forest_model = RandomForestClassifier(random_state=42)\n",
    "naive_bayes_model = GaussianNB()\n",
    "svm_model = SVC()\n",
    "\n",
    "# Create pipelines for each model\n",
    "random_forest_pipeline = Pipeline([\n",
    "    ('scaler', StandardScaler()),\n",
    "    ('model', random_forest_model)\n",
    "])\n",
    "\n",
    "naive_bayes_pipeline = Pipeline([\n",
    "    ('scaler', StandardScaler()),\n",
    "    ('model', naive_bayes_model)\n",
    "])\n",
    "\n",
    "svm_pipeline = Pipeline([\n",
    "    ('scaler', StandardScaler()),\n",
    "    ('model', svm_model)\n",
    "])\n",
    "\n",
    "# List of pipelines for easy iteration\n",
    "pipelines = [\n",
    "    ('Random Forest', random_forest_pipeline),\n",
    "    ('Naive Bayes', naive_bayes_pipeline),\n",
    "    ('SVM', svm_pipeline),\n",
    "    # Add more models as needed\n",
    "]\n",
    "\n",
    "# Train and evaluate each model\n",
    "for model_name, pipeline in pipelines:\n",
    "    pipeline.fit(X_train, y_train)\n",
    "    y_pred = pipeline.predict(X_test)\n",
    "    conf_matrix = confusion_matrix(y_test, y_pred)\n",
    "    accuracy = accuracy_score(y_test, y_pred)\n",
    "    precision = precision_score(y_test, y_pred, average='weighted')\n",
    "    recall = recall_score(y_test, y_pred, average='weighted')\n",
    "\n",
    "    print(f\"{model_name} Evaluation:\")\n",
    "    # dump(pipeline, f'{model_name}.joblib')\n",
    "    print(f\"Accuracy: {accuracy:.2f}\")\n",
    "    print(f\"Precision: {precision:.2f}\")\n",
    "    print(f\"Recall: {recall:.2f}\")\n",
    "    print(\"\\n\")\n",
    "\n",
    "    plt.figure(figsize=(8, 6))\n",
    "    sns.heatmap(conf_matrix, annot=True, fmt='d', cmap='Blues',\n",
    "                xticklabels=pipeline.classes_, yticklabels=pipeline.classes_)\n",
    "    plt.title(f'Confusion Matrix - {model_name}')\n",
    "    plt.xlabel('Predicted Labels')\n",
    "    plt.ylabel('True Labels')\n",
    "    plt.show()"
   ]
  },
  {
   "cell_type": "code",
   "execution_count": 14,
   "id": "59f7ebfe",
   "metadata": {},
   "outputs": [
    {
     "data": {
      "text/plain": [
       "array([0, 1, 0, 1, 0, 0, 1, 0, 0, 0, 0, 0, 1, 1, 0, 1, 0, 0, 1, 0, 1, 1,\n",
       "       1, 0, 0])"
      ]
     },
     "execution_count": 14,
     "metadata": {},
     "output_type": "execute_result"
    }
   ],
   "source": [
    "y_pred"
   ]
  }
 ],
 "metadata": {
  "kernelspec": {
   "display_name": "Python 3 (ipykernel)",
   "language": "python",
   "name": "python3"
  },
  "language_info": {
   "codemirror_mode": {
    "name": "ipython",
    "version": 3
   },
   "file_extension": ".py",
   "mimetype": "text/x-python",
   "name": "python",
   "nbconvert_exporter": "python",
   "pygments_lexer": "ipython3",
   "version": "3.10.6"
  }
 },
 "nbformat": 4,
 "nbformat_minor": 5
}
