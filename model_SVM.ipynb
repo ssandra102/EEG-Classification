{
 "cells": [
  {
   "cell_type": "markdown",
   "id": "8eb96da5",
   "metadata": {},
   "source": [
    "### single model pipeline"
   ]
  },
  {
   "cell_type": "code",
   "execution_count": 1,
   "id": "c46512ed",
   "metadata": {},
   "outputs": [],
   "source": [
    "import pandas as pd\n",
    "from sklearn.model_selection import train_test_split\n",
    "from sklearn.preprocessing import StandardScaler\n",
    "from sklearn.pipeline import Pipeline\n",
    "from sklearn.ensemble import RandomForestClassifier\n",
    "from sklearn.naive_bayes import GaussianNB\n",
    "from sklearn.svm import SVC\n",
    "from sklearn.metrics import confusion_matrix\n",
    "import seaborn as sns\n",
    "import matplotlib.pyplot as plt\n",
    "from sklearn.metrics import accuracy_score, precision_score, recall_score"
   ]
  },
  {
   "cell_type": "code",
   "execution_count": 2,
   "id": "7e8bee7d",
   "metadata": {},
   "outputs": [
    {
     "data": {
      "text/plain": [
       "(6097233, 2)"
      ]
     },
     "execution_count": 2,
     "metadata": {},
     "output_type": "execute_result"
    }
   ],
   "source": [
    "###################################################################\n",
    "# The dataset is a single channel eeg dataset for the motor task of \n",
    "# moving the eyes to the left and rest, alternating every 5 seconds, \n",
    "# for a total duration of 600 seconds. \n",
    "# Column 1 is index and Column 2 is the signal -> ['idx', 'x'].\n",
    "###################################################################\n",
    "\n",
    "df = pd.read_csv(\"dataset/jg_rest_eye_left_600.csv\", index_col=None)\n",
    "df.head()\n",
    "df.shape"
   ]
  },
  {
   "cell_type": "code",
   "execution_count": 3,
   "id": "16cd2a27",
   "metadata": {},
   "outputs": [],
   "source": [
    "\n",
    "# Calculate the number of rows and create labels\n",
    "num_rows = df.shape[0]\n",
    "num_labels = (num_rows // 50000) + 1  # Calculate the number of labels needed\n",
    "labels = [i % 2 for i in range(num_labels) for _ in range(50000)]\n",
    "df['Label'] = labels[:num_rows]\n",
    "df.to_csv('dataset/labeled_jg_rest_eyeleft_600.csv', index=False)"
   ]
  },
  {
   "cell_type": "code",
   "execution_count": 4,
   "id": "0730394c",
   "metadata": {},
   "outputs": [],
   "source": [
    "import numpy as np\n",
    "from sklearn.model_selection import train_test_split\n",
    "from sklearn.ensemble import RandomForestClassifier\n",
    "from sklearn.metrics import accuracy_score\n",
    "from scipy.stats import entropy\n",
    "\n",
    "def extract_features(signal_window):\n",
    "    # Extract features from the signal window\n",
    "    features = []\n",
    "    \n",
    "    # Basic statistical features\n",
    "    mean_value = np.mean(signal_window)\n",
    "    variance = np.var(signal_window)\n",
    "    min_value = np.min(signal_window)\n",
    "    max_value = np.max(signal_window)\n",
    "    range_value = max_value - min_value\n",
    "    median_value = np.median(signal_window)\n",
    "    rms = np.sqrt(np.mean(np.square(signal_window)))\n",
    "    \n",
    "    # Frequency-domain features (using FFT)\n",
    "    fft_values = np.fft.fft(signal_window)\n",
    "    power_spectrum = np.abs(fft_values)**2\n",
    "    total_power = np.sum(power_spectrum)\n",
    "    spectral_entropy = entropy(power_spectrum, base=2)\n",
    "    \n",
    "    # Other features\n",
    "    zero_crossings = np.sum(np.diff(np.sign(signal_window)) != 0)\n",
    "    \n",
    "    # Add features to the list\n",
    "    features.extend([mean_value, variance, min_value, max_value,\n",
    "                     range_value, median_value, rms, total_power, spectral_entropy,\n",
    "                     zero_crossings])\n",
    "    \n",
    "    return features\n"
   ]
  },
  {
   "cell_type": "code",
   "execution_count": null,
   "id": "e61a2917",
   "metadata": {},
   "outputs": [],
   "source": []
  },
  {
   "cell_type": "code",
   "execution_count": 5,
   "id": "aa819851",
   "metadata": {},
   "outputs": [],
   "source": [
    "def label_data(num_windows):\n",
    "    return [i % 2 for i in range(num_windows)]"
   ]
  },
  {
   "cell_type": "code",
   "execution_count": 6,
   "id": "830f8947",
   "metadata": {},
   "outputs": [
    {
     "data": {
      "text/plain": [
       "(6097233,)"
      ]
     },
     "execution_count": 6,
     "metadata": {},
     "output_type": "execute_result"
    }
   ],
   "source": [
    "# EEG data\n",
    "eeg_data = df['x']  \n",
    "window_size = 50000  # 50,000 samples per window\n",
    "eeg_data.shape\n"
   ]
  },
  {
   "cell_type": "code",
   "execution_count": 7,
   "id": "6f2530ea",
   "metadata": {},
   "outputs": [],
   "source": [
    "# Process each window\n",
    "num_windows = len(eeg_data) // window_size\n",
    "features = []\n",
    "labels = []\n",
    "for i in range(num_windows):\n",
    "    signal_window = eeg_data[i * window_size: (i + 1) * window_size]\n",
    "    features.append(extract_features(signal_window))\n",
    "    # plot_and_save_signal_window(signal_window, i)\n",
    "labels = label_data(num_windows)"
   ]
  },
  {
   "cell_type": "code",
   "execution_count": 8,
   "id": "3a3d156a",
   "metadata": {},
   "outputs": [
    {
     "data": {
      "text/plain": [
       "121"
      ]
     },
     "execution_count": 8,
     "metadata": {},
     "output_type": "execute_result"
    }
   ],
   "source": [
    "len(features)\n"
   ]
  },
  {
   "cell_type": "code",
   "execution_count": 9,
   "id": "5644374d",
   "metadata": {},
   "outputs": [
    {
     "data": {
      "text/plain": [
       "121"
      ]
     },
     "execution_count": 9,
     "metadata": {},
     "output_type": "execute_result"
    }
   ],
   "source": [
    "len(labels)"
   ]
  },
  {
   "cell_type": "code",
   "execution_count": 10,
   "id": "0795abf4",
   "metadata": {},
   "outputs": [],
   "source": [
    "df = pd.DataFrame(features, columns=['mean_value', 'variance', 'min_value', 'max_value',\n",
    "                     'range_value', 'median_value', 'rms', 'total_power', 'spectral_entropy',\n",
    "                     'zero_crossings'])\n",
    "df['Label'] = labels\n"
   ]
  },
  {
   "cell_type": "code",
   "execution_count": 11,
   "id": "696171e6",
   "metadata": {},
   "outputs": [
    {
     "data": {
      "text/plain": [
       "[166.5499,\n",
       " 1926714.82778999,\n",
       " -2984,\n",
       " 4019,\n",
       " 7003,\n",
       " 253.0,\n",
       " 1398.0177742003139,\n",
       " 4886134242450000.0,\n",
       " 5.973377899601365,\n",
       " 70]"
      ]
     },
     "execution_count": 11,
     "metadata": {},
     "output_type": "execute_result"
    }
   ],
   "source": [
    "features[99]"
   ]
  },
  {
   "cell_type": "code",
   "execution_count": 12,
   "id": "d65ae127",
   "metadata": {},
   "outputs": [],
   "source": [
    "# Split data into training and testing sets\n",
    "X_train, X_test, y_train, y_test = train_test_split(features, labels, test_size=0.2, random_state=42)"
   ]
  },
  {
   "cell_type": "code",
   "execution_count": 13,
   "id": "24b8c137",
   "metadata": {},
   "outputs": [
    {
     "data": {
      "text/plain": [
       "25"
      ]
     },
     "execution_count": 13,
     "metadata": {},
     "output_type": "execute_result"
    }
   ],
   "source": [
    "len(y_test)"
   ]
  },
  {
   "cell_type": "code",
   "execution_count": 14,
   "id": "30bc0a70",
   "metadata": {},
   "outputs": [
    {
     "data": {
      "text/plain": [
       "96"
      ]
     },
     "execution_count": 14,
     "metadata": {},
     "output_type": "execute_result"
    }
   ],
   "source": [
    "\n",
    "len(y_train)"
   ]
  },
  {
   "cell_type": "code",
   "execution_count": 15,
   "id": "f514e1d4",
   "metadata": {},
   "outputs": [
    {
     "data": {
      "text/html": [
       "<style>#sk-container-id-1 {color: black;}#sk-container-id-1 pre{padding: 0;}#sk-container-id-1 div.sk-toggleable {background-color: white;}#sk-container-id-1 label.sk-toggleable__label {cursor: pointer;display: block;width: 100%;margin-bottom: 0;padding: 0.3em;box-sizing: border-box;text-align: center;}#sk-container-id-1 label.sk-toggleable__label-arrow:before {content: \"▸\";float: left;margin-right: 0.25em;color: #696969;}#sk-container-id-1 label.sk-toggleable__label-arrow:hover:before {color: black;}#sk-container-id-1 div.sk-estimator:hover label.sk-toggleable__label-arrow:before {color: black;}#sk-container-id-1 div.sk-toggleable__content {max-height: 0;max-width: 0;overflow: hidden;text-align: left;background-color: #f0f8ff;}#sk-container-id-1 div.sk-toggleable__content pre {margin: 0.2em;color: black;border-radius: 0.25em;background-color: #f0f8ff;}#sk-container-id-1 input.sk-toggleable__control:checked~div.sk-toggleable__content {max-height: 200px;max-width: 100%;overflow: auto;}#sk-container-id-1 input.sk-toggleable__control:checked~label.sk-toggleable__label-arrow:before {content: \"▾\";}#sk-container-id-1 div.sk-estimator input.sk-toggleable__control:checked~label.sk-toggleable__label {background-color: #d4ebff;}#sk-container-id-1 div.sk-label input.sk-toggleable__control:checked~label.sk-toggleable__label {background-color: #d4ebff;}#sk-container-id-1 input.sk-hidden--visually {border: 0;clip: rect(1px 1px 1px 1px);clip: rect(1px, 1px, 1px, 1px);height: 1px;margin: -1px;overflow: hidden;padding: 0;position: absolute;width: 1px;}#sk-container-id-1 div.sk-estimator {font-family: monospace;background-color: #f0f8ff;border: 1px dotted black;border-radius: 0.25em;box-sizing: border-box;margin-bottom: 0.5em;}#sk-container-id-1 div.sk-estimator:hover {background-color: #d4ebff;}#sk-container-id-1 div.sk-parallel-item::after {content: \"\";width: 100%;border-bottom: 1px solid gray;flex-grow: 1;}#sk-container-id-1 div.sk-label:hover label.sk-toggleable__label {background-color: #d4ebff;}#sk-container-id-1 div.sk-serial::before {content: \"\";position: absolute;border-left: 1px solid gray;box-sizing: border-box;top: 0;bottom: 0;left: 50%;z-index: 0;}#sk-container-id-1 div.sk-serial {display: flex;flex-direction: column;align-items: center;background-color: white;padding-right: 0.2em;padding-left: 0.2em;position: relative;}#sk-container-id-1 div.sk-item {position: relative;z-index: 1;}#sk-container-id-1 div.sk-parallel {display: flex;align-items: stretch;justify-content: center;background-color: white;position: relative;}#sk-container-id-1 div.sk-item::before, #sk-container-id-1 div.sk-parallel-item::before {content: \"\";position: absolute;border-left: 1px solid gray;box-sizing: border-box;top: 0;bottom: 0;left: 50%;z-index: -1;}#sk-container-id-1 div.sk-parallel-item {display: flex;flex-direction: column;z-index: 1;position: relative;background-color: white;}#sk-container-id-1 div.sk-parallel-item:first-child::after {align-self: flex-end;width: 50%;}#sk-container-id-1 div.sk-parallel-item:last-child::after {align-self: flex-start;width: 50%;}#sk-container-id-1 div.sk-parallel-item:only-child::after {width: 0;}#sk-container-id-1 div.sk-dashed-wrapped {border: 1px dashed gray;margin: 0 0.4em 0.5em 0.4em;box-sizing: border-box;padding-bottom: 0.4em;background-color: white;}#sk-container-id-1 div.sk-label label {font-family: monospace;font-weight: bold;display: inline-block;line-height: 1.2em;}#sk-container-id-1 div.sk-label-container {text-align: center;}#sk-container-id-1 div.sk-container {/* jupyter's `normalize.less` sets `[hidden] { display: none; }` but bootstrap.min.css set `[hidden] { display: none !important; }` so we also need the `!important` here to be able to override the default hidden behavior on the sphinx rendered scikit-learn.org. See: https://github.com/scikit-learn/scikit-learn/issues/21755 */display: inline-block !important;position: relative;}#sk-container-id-1 div.sk-text-repr-fallback {display: none;}</style><div id=\"sk-container-id-1\" class=\"sk-top-container\"><div class=\"sk-text-repr-fallback\"><pre>SVC(random_state=42)</pre><b>In a Jupyter environment, please rerun this cell to show the HTML representation or trust the notebook. <br />On GitHub, the HTML representation is unable to render, please try loading this page with nbviewer.org.</b></div><div class=\"sk-container\" hidden><div class=\"sk-item\"><div class=\"sk-estimator sk-toggleable\"><input class=\"sk-toggleable__control sk-hidden--visually\" id=\"sk-estimator-id-1\" type=\"checkbox\" checked><label for=\"sk-estimator-id-1\" class=\"sk-toggleable__label sk-toggleable__label-arrow\">SVC</label><div class=\"sk-toggleable__content\"><pre>SVC(random_state=42)</pre></div></div></div></div></div>"
      ],
      "text/plain": [
       "SVC(random_state=42)"
      ]
     },
     "execution_count": 15,
     "metadata": {},
     "output_type": "execute_result"
    }
   ],
   "source": [
    "# Train SVM classifier\n",
    "model = SVC(random_state=42)\n",
    "model.fit(X_train, y_train)\n",
    "\n"
   ]
  },
  {
   "cell_type": "code",
   "execution_count": 16,
   "id": "252caee8",
   "metadata": {},
   "outputs": [
    {
     "name": "stdout",
     "output_type": "stream",
     "text": [
      "Accuracy: 0.96\n"
     ]
    }
   ],
   "source": [
    "# Evaluate the classifier\n",
    "y_pred = model.predict(X_test)\n",
    "accuracy = accuracy_score(y_test, y_pred)\n",
    "print(\"Accuracy:\", accuracy)"
   ]
  },
  {
   "cell_type": "code",
   "execution_count": 17,
   "id": "73d56ac2",
   "metadata": {},
   "outputs": [
    {
     "data": {
      "text/plain": [
       "25"
      ]
     },
     "execution_count": 17,
     "metadata": {},
     "output_type": "execute_result"
    }
   ],
   "source": [
    "len(X_test)"
   ]
  },
  {
   "cell_type": "code",
   "execution_count": 18,
   "id": "52252a9d",
   "metadata": {},
   "outputs": [],
   "source": [
    "######################### END of SVM ########################################"
   ]
  },
  {
   "cell_type": "code",
   "execution_count": null,
   "id": "ca32170a",
   "metadata": {},
   "outputs": [],
   "source": []
  }
 ],
 "metadata": {
  "kernelspec": {
   "display_name": "Python 3 (ipykernel)",
   "language": "python",
   "name": "python3"
  },
  "language_info": {
   "codemirror_mode": {
    "name": "ipython",
    "version": 3
   },
   "file_extension": ".py",
   "mimetype": "text/x-python",
   "name": "python",
   "nbconvert_exporter": "python",
   "pygments_lexer": "ipython3",
   "version": "3.10.6"
  }
 },
 "nbformat": 4,
 "nbformat_minor": 5
}
